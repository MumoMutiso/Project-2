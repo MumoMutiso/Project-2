{
 "cells": [
  {
   "cell_type": "code",
   "execution_count": 24,
   "id": "cfae001d-ab3c-4dc3-981a-d30c776b7ddf",
   "metadata": {},
   "outputs": [],
   "source": [
    "products = [\"Sankofa Foods\", \"Jamestown Coffee\", \"Bioko Chocolate\", \"Blue Skies Ice Cream\", \"Fair Afric Chocolate\", \"Kawa Moka Coffee\", \"Aphro Spirit\", \"Mensado Bissap\", \"Voltic\"]\n",
    "prices = [30, 25, 40, 20, 20, 35, 45, 50, 35]\n",
    "last_week = [2, 3, 5, 8, 4, 4, 6, 2, 9]"
   ]
  },
  {
   "cell_type": "code",
   "execution_count": 8,
   "id": "1167655f-1448-47de-a17e-bda4dde04789",
   "metadata": {},
   "outputs": [
    {
     "name": "stdout",
     "output_type": "stream",
     "text": [
      "The average price off the products is GCH33.33\n"
     ]
    }
   ],
   "source": [
    "#1. Calculate the total price average for all products\n",
    "\n",
    "total_price = sum(prices)\n",
    "avrge_price = total_price/ len(last_week)\n",
    "print(f\"The average price off the products is GHC{avrge_price:.2f}\")"
   ]
  },
  {
   "cell_type": "code",
   "execution_count": 11,
   "id": "98f17be8-01c1-4f5b-acdd-76496df13a24",
   "metadata": {},
   "outputs": [
    {
     "name": "stdout",
     "output_type": "stream",
     "text": [
      "The new prices list for the products is : [25, 20, 35, 15, 15, 30, 40, 45, 30]\n"
     ]
    }
   ],
   "source": [
    "#2. Create a new price list that reduces the old prices by GHC5\n",
    "\n",
    "new_prices = [price- 5 for price in prices]\n",
    "print(f\"The new prices list for the products is : {new_prices}\")"
   ]
  },
  {
   "cell_type": "code",
   "execution_count": 26,
   "id": "a1c1d381-90d7-452e-9b34-8fd56b328aae",
   "metadata": {},
   "outputs": [
    {
     "name": "stdout",
     "output_type": "stream",
     "text": [
      "1400\n"
     ]
    }
   ],
   "source": [
    "#3. Calculate the total revenue generated from the products\n",
    "\n",
    "total_rev = 0\n",
    "for price, cstmrs in zip(prices, last_week): \n",
    "    rev =  price * cstmrs\n",
    "    total_rev = total_rev + rev\n",
    "print(total_rev)"
   ]
  },
  {
   "cell_type": "code",
   "execution_count": 32,
   "id": "32c79e1a-fe00-422c-a36d-a3e44bd249a2",
   "metadata": {},
   "outputs": [
    {
     "name": "stdout",
     "output_type": "stream",
     "text": [
      "200.0\n"
     ]
    }
   ],
   "source": [
    "#4. Calculate the average daily revenue generated from the products\n",
    "\n",
    "avrg_daily_rev = total_rev / 7\n",
    "print(avrg_daily_rev)"
   ]
  },
  {
   "cell_type": "code",
   "execution_count": 42,
   "id": "3184c20d-a631-47f9-a4e2-b13e8e540f4a",
   "metadata": {},
   "outputs": [
    {
     "data": {
      "text/plain": [
       "[('Sankofa Foods', 25),\n",
       " ('Jamestown Coffee', 20),\n",
       " ('Blue Skies Ice Cream', 15),\n",
       " ('Fair Afric Chocolate', 15)]"
      ]
     },
     "execution_count": 42,
     "metadata": {},
     "output_type": "execute_result"
    }
   ],
   "source": [
    "#5.  Find products that are less than GHC30 in the new price list\n",
    "\n",
    "new_prices_below_30 = [(product, price) for product, price in zip(products, new_prices) if price < 30]\n",
    "new_prices_below_30"
   ]
  },
  {
   "cell_type": "code",
   "execution_count": null,
   "id": "fe9620c5-b6d6-4060-a9cb-24dd64a818b7",
   "metadata": {},
   "outputs": [],
   "source": []
  }
 ],
 "metadata": {
  "kernelspec": {
   "display_name": "Python 3 (ipykernel)",
   "language": "python",
   "name": "python3"
  },
  "language_info": {
   "codemirror_mode": {
    "name": "ipython",
    "version": 3
   },
   "file_extension": ".py",
   "mimetype": "text/x-python",
   "name": "python",
   "nbconvert_exporter": "python",
   "pygments_lexer": "ipython3",
   "version": "3.12.0"
  }
 },
 "nbformat": 4,
 "nbformat_minor": 5
}
